{
 "cells": [
  {
   "cell_type": "markdown",
   "id": "1ba28a86-e769-40e3-a144-e2df559bfe91",
   "metadata": {},
   "source": [
    "## Week 3 Independent Lab\n",
    "* By: Dean Wilson\n",
    "* Course: BGEN 632: Graduate Introduction to Python\n",
    "* Date: 20230317"
   ]
  },
  {
   "cell_type": "markdown",
   "id": "385ae1a4-564a-48a2-9969-a44d7d3b5f45",
   "metadata": {},
   "source": [
    "## &#127829; Welcome to Domino's Pizza Self Serving Kiosk &#127829;\n",
    "* Please see menu below, then enter item and quantity of item you desire."
   ]
  },
  {
   "cell_type": "code",
   "execution_count": 51,
   "id": "626acae6-9087-4457-a97d-83534c119892",
   "metadata": {},
   "outputs": [],
   "source": [
    "# Name and Price Variables\n",
    "product_1 = \"Large_Specialty_Pizza\"\n",
    "price_1 = 17.99\n",
    "product_2 = \"Stuffed_Cheesy_Bread\"\n",
    "price_2 = 8.99\n",
    "product_3 = \"Cheddar_Bacon_Loaded_Tots\"\n",
    "price_3 = 9.99\n",
    "product_4 = \"Chicken_Alfredo\"\n",
    "price_4 = 6.99\n",
    "product_5 = \"Chocolate_Lava_Crunch_Cakes\"\n",
    "price_5 = 10.99"
   ]
  },
  {
   "cell_type": "code",
   "execution_count": 52,
   "id": "c75727d1-c5f8-402f-a1b1-63cfb65fc62a",
   "metadata": {},
   "outputs": [],
   "source": [
    "# Create Dictionary for Variables as required\n",
    "Products = {\n",
    "    1: (product_1, price_1),\n",
    "    2: (product_2, price_2),\n",
    "    3: (product_3, price_3), \n",
    "    4: (product_4, price_4),\n",
    "    5: (product_5, price_5)\n",
    "}"
   ]
  },
  {
   "cell_type": "markdown",
   "id": "38714470-492b-4c0e-a7d1-320409e3d910",
   "metadata": {},
   "source": [
    "### Domino's Pizza Menu &#127829;"
   ]
  },
  {
   "cell_type": "code",
   "execution_count": 74,
   "id": "bc07add6-d203-432b-a70c-c54285e682a1",
   "metadata": {},
   "outputs": [
    {
     "name": "stdout",
     "output_type": "stream",
     "text": [
      "|   | Product                        | Price  |\n",
      "|---|--------------------------------|--------|\n",
      "| 1 | Large Specialty Pizza          | $17.99 |\n",
      "| 2 | Stuffed Cheesy Bread           | $8.99  |\n",
      "| 3 | Cheddar Bacon Loaded Tots      | $9.99  |\n",
      "| 4 | Chicken Alfredo                | $6.99  |\n",
      "| 5 | Chocolate Lava Crunch Cakes    | $10.99 |\n"
     ]
    }
   ],
   "source": [
    "print(\"|   | Product                        | Price  |\") # Table Header\n",
    "print(\"|---|--------------------------------|--------|\") # Line Break for readability\n",
    "print(f\"| 1 | {product_1.replace('_', ' '):<30} | ${price_1} |\") # Show each product, with representive variable and price\n",
    "print(f\"| 2 | {product_2.replace('_', ' '):<30} | ${price_2}  |\") # used .replace to ensure everything in product alligned, couldn't figure out how to do the same for price.\n",
    "print(f\"| 3 | {product_3.replace('_', ' '):<30} | ${price_3}  |\")\n",
    "print(f\"| 4 | {product_4.replace('_', ' '):<30} | ${price_4}  |\")\n",
    "print(f\"| 5 | {product_5.replace('_', ' '):<30} | ${price_5} |\")"
   ]
  },
  {
   "cell_type": "markdown",
   "id": "be7815ef-f116-49cd-a7e4-4f9a7117c395",
   "metadata": {},
   "source": [
    "### What Would You Like To Purchase"
   ]
  },
  {
   "cell_type": "code",
   "execution_count": 54,
   "id": "459e560e-be87-44de-a048-f93580c276e6",
   "metadata": {},
   "outputs": [
    {
     "name": "stdin",
     "output_type": "stream",
     "text": [
      "What would you like to purchase? (Enter 1-5):  1\n",
      "How many Large Specialty Pizza would you like to purchase?  2\n"
     ]
    },
    {
     "name": "stdout",
     "output_type": "stream",
     "text": [
      "You want 2 of Large Specialty Pizza.\n",
      "The current total for your order is $35.98\n"
     ]
    },
    {
     "name": "stdin",
     "output_type": "stream",
     "text": [
      "If you are finished ordering, enter 1. To add more, enter 2:  2\n"
     ]
    },
    {
     "name": "stdout",
     "output_type": "stream",
     "text": [
      "Please continue adding to your order\n"
     ]
    },
    {
     "name": "stdin",
     "output_type": "stream",
     "text": [
      "What would you like to purchase? (Enter 1-5):  2\n",
      "How many Stuffed Cheesy Bread would you like to purchase?  2\n"
     ]
    },
    {
     "name": "stdout",
     "output_type": "stream",
     "text": [
      "You want 2 of Stuffed Cheesy Bread.\n",
      "The current total for your order is $53.96\n"
     ]
    },
    {
     "name": "stdin",
     "output_type": "stream",
     "text": [
      "If you are finished ordering, enter 1. To add more, enter 2:  2\n"
     ]
    },
    {
     "name": "stdout",
     "output_type": "stream",
     "text": [
      "Please continue adding to your order\n"
     ]
    },
    {
     "name": "stdin",
     "output_type": "stream",
     "text": [
      "What would you like to purchase? (Enter 1-5):  3\n",
      "How many Cheddar Bacon Loaded Tots would you like to purchase?  2\n"
     ]
    },
    {
     "name": "stdout",
     "output_type": "stream",
     "text": [
      "You want 2 of Cheddar Bacon Loaded Tots.\n",
      "The current total for your order is $73.94\n"
     ]
    },
    {
     "name": "stdin",
     "output_type": "stream",
     "text": [
      "If you are finished ordering, enter 1. To add more, enter 2:  2\n"
     ]
    },
    {
     "name": "stdout",
     "output_type": "stream",
     "text": [
      "Please continue adding to your order\n"
     ]
    },
    {
     "name": "stdin",
     "output_type": "stream",
     "text": [
      "What would you like to purchase? (Enter 1-5):  4\n",
      "How many Chicken Alfredo would you like to purchase?  2\n"
     ]
    },
    {
     "name": "stdout",
     "output_type": "stream",
     "text": [
      "You want 2 of Chicken Alfredo.\n",
      "The current total for your order is $87.92\n"
     ]
    },
    {
     "name": "stdin",
     "output_type": "stream",
     "text": [
      "If you are finished ordering, enter 1. To add more, enter 2:  2\n"
     ]
    },
    {
     "name": "stdout",
     "output_type": "stream",
     "text": [
      "Please continue adding to your order\n"
     ]
    },
    {
     "name": "stdin",
     "output_type": "stream",
     "text": [
      "What would you like to purchase? (Enter 1-5):  5\n",
      "How many Chocolate Lava Crunch Cakes would you like to purchase?  2\n"
     ]
    },
    {
     "name": "stdout",
     "output_type": "stream",
     "text": [
      "You want 2 of Chocolate Lava Crunch Cakes.\n",
      "The current total for your order is $109.90\n"
     ]
    },
    {
     "name": "stdin",
     "output_type": "stream",
     "text": [
      "If you are finished ordering, enter 1. To add more, enter 2:  2\n"
     ]
    },
    {
     "name": "stdout",
     "output_type": "stream",
     "text": [
      "Please continue adding to your order\n"
     ]
    },
    {
     "name": "stdin",
     "output_type": "stream",
     "text": [
      "What would you like to purchase? (Enter 1-5):  1\n",
      "How many Large Specialty Pizza would you like to purchase?  3\n"
     ]
    },
    {
     "name": "stdout",
     "output_type": "stream",
     "text": [
      "You want 3 of Large Specialty Pizza.\n",
      "The current total for your order is $163.87\n"
     ]
    },
    {
     "name": "stdin",
     "output_type": "stream",
     "text": [
      "If you are finished ordering, enter 1. To add more, enter 2:  2\n"
     ]
    },
    {
     "name": "stdout",
     "output_type": "stream",
     "text": [
      "Please continue adding to your order\n"
     ]
    },
    {
     "name": "stdin",
     "output_type": "stream",
     "text": [
      "What would you like to purchase? (Enter 1-5):  4\n",
      "How many Chicken Alfredo would you like to purchase?  8\n"
     ]
    },
    {
     "name": "stdout",
     "output_type": "stream",
     "text": [
      "You want 8 of Chicken Alfredo.\n",
      "The current total for your order is $219.79\n"
     ]
    },
    {
     "name": "stdin",
     "output_type": "stream",
     "text": [
      "If you are finished ordering, enter 1. To add more, enter 2:  1\n"
     ]
    },
    {
     "name": "stdout",
     "output_type": "stream",
     "text": [
      "Finalizing your order\n"
     ]
    }
   ],
   "source": [
    "# Initialize total cost of beginning order. This will allow the system to compute the order_summary at end with actual total cost\n",
    "total_cost = 0.0\n",
    "# order_summary must be {} to allow as dictionary to store user inputs\n",
    "order_summary = {}\n",
    "\n",
    "while True:  # Starting of Infinite Loop *Note ChatGPT greatly aided me with this, i was having multiple while true statements causing multiple loops; not allowing me to properly continue/end order. It also aided me with formatting errors.\n",
    "    try:\n",
    "        selected_product = int(input(\"What would you like to purchase? (Enter 1-5): \")) # Ask for numeric (1-5) Product Selection\n",
    "\n",
    "        if selected_product in Products:  #  Checks if input is of a valid product (1-5)\n",
    "            product_name, product_price = Products[selected_product]  # Gets product name and price ready for next step\n",
    "            \n",
    "            quantity = int(input(f\"How many {product_name.replace('_', ' ')} would you like to purchase? \")) # Ask quantity of item selected wanted\n",
    "\n",
    "            if quantity > 0:  # Ensures that the selected quantity is valid (greater than 0)\n",
    "                total_cost += product_price * quantity  # Update total cost constantly with += when adding quantity\n",
    "\n",
    "                if product_name in order_summary:\n",
    "                    order_summary[product_name] += quantity # This is to debug when a customer orders multiple of same items in different transactions. If already ordered, add to existing order\n",
    "\n",
    "                else:\n",
    "                    order_summary[product_name] = quantity  # Otherwise, add new prodcut entry\n",
    "                                \n",
    "                print(f\"You want {quantity} of {product_name.replace('_', ' ')}.\") # Show quantity of item of this order\n",
    "                print(f\"The current total for your order is ${total_cost:.2f}\") # Show current total with second decimal place\n",
    "                \n",
    "            else:\n",
    "                print(\"That is not an option. Please try again.\")\n",
    "                continue  # Restart the loop for quantity input\n",
    "\n",
    "        else:\n",
    "            print(\"That is not an option. Please try again.\")\n",
    "            continue  # Restart the loop for product selection\n",
    "\n",
    "        continue_ordering = int(input(\"If you are finished ordering, enter 1. To add more, enter 2: \")) # Ask if they want to continue ordering or finish\n",
    "\n",
    "        if continue_ordering == 1:  # User selects finish order\n",
    "            print(\"Finalizing your order\")\n",
    "            break  # Exit loop\n",
    "\n",
    "        elif continue_ordering == 2:  # User selects continue ordering, restart loop\n",
    "            print(\"Please continue adding to your order\")\n",
    "            continue  # Goes back to start loop\n",
    "\n",
    "        else:  # Use for debugging, in case user puts anything other than 1 or 2\n",
    "            print(\"That is not an option. Please try again.\")\n",
    "\n",
    "    except ValueError:\n",
    "        print(\"That is not an option. Please try again.\") #This is in case the user enters anything outside a number like a letter. \n"
   ]
  },
  {
   "cell_type": "markdown",
   "id": "29495c63-7d63-450c-bfc9-62e24bd34866",
   "metadata": {},
   "source": [
    "### Your Order is Complete, See Below for Summary"
   ]
  },
  {
   "cell_type": "code",
   "execution_count": 66,
   "id": "50046375-e0ab-409c-8132-8ad356d0903d",
   "metadata": {},
   "outputs": [
    {
     "name": "stdout",
     "output_type": "stream",
     "text": [
      "\n",
      "=============================================\n",
      "Here is a summary of your order!\n",
      "\n",
      "=============================================\n",
      "| Product                       | Quantity  |\n",
      "|-------------------------------|-----------|\n",
      "| Large Specialty Pizza         |     5     |\n",
      "| Stuffed Cheesy Bread          |     2     |\n",
      "| Cheddar Bacon Loaded Tots     |     2     |\n",
      "| Chicken Alfredo               |    10     |\n",
      "| Chocolate Lava Crunch Cakes   |     2     |\n",
      "\n",
      "=============================================\n",
      "The total cost of your order is $219.79\n"
     ]
    }
   ],
   "source": [
    "print(\"\\n\" + \"=\"*45)\n",
    "print(\"Here is a summary of your order!\") # Order Summary with line breaks\n",
    "print(\"\\n\" + \"=\"*45)\n",
    "\n",
    "print(\"| Product                       | Quantity  |\") # Table \n",
    "print(\"|-------------------------------|-----------|\")\n",
    "\n",
    "for Product, quantity in order_summary.items(): # Loop through order_summary gathering selected items and their quantity\n",
    "    print(f\"| {Product.replace('_', ' '):<30}| {quantity:^9} |\") # fill in table with product (30 spaces total) and quantity (9 spaces total).\n",
    "print(\"\\n\" + \"=\"*45) # Line break for readability\n",
    "print(f\"The total cost of your order is ${total_cost:.2f}\")"
   ]
  },
  {
   "cell_type": "code",
   "execution_count": 73,
   "id": "643874f1-2c7b-4c86-bbdd-a208d6ce98dd",
   "metadata": {},
   "outputs": [
    {
     "name": "stdout",
     "output_type": "stream",
     "text": [
      "Thank you for ordering at your local Domino's, your pizza deliver experts!!\n"
     ]
    }
   ],
   "source": [
    "print(\"Thank you for ordering at your local Domino's, your pizza deliver experts!!\") "
   ]
  },
  {
   "cell_type": "markdown",
   "id": "2f69a88b-d898-46fd-a629-0c7a18f64e0d",
   "metadata": {},
   "source": [
    "## References\n",
    "* Domino's. (n.d.). Domino's Pizza: Order Pizza Delivery Online. Retrieved March 17, 2025, from https://www.dominos.com/en/\n",
    "\n",
    "* OpenAI. (2025). ChatGPT conversation share: 67d85667-c720-8001-a554-46c20c7774b7. Retrieved March 17, 2025, from https://chatgpt.com/share/67d85667-c720-8001-a554-46c20c7774b7"
   ]
  },
  {
   "cell_type": "code",
   "execution_count": null,
   "id": "2fec507c-52ef-43b8-a925-852d968fd4d7",
   "metadata": {},
   "outputs": [],
   "source": []
  }
 ],
 "metadata": {
  "kernelspec": {
   "display_name": "Python 3 (ipykernel)",
   "language": "python",
   "name": "python3"
  },
  "language_info": {
   "codemirror_mode": {
    "name": "ipython",
    "version": 3
   },
   "file_extension": ".py",
   "mimetype": "text/x-python",
   "name": "python",
   "nbconvert_exporter": "python",
   "pygments_lexer": "ipython3",
   "version": "3.13.2"
  }
 },
 "nbformat": 4,
 "nbformat_minor": 5
}
