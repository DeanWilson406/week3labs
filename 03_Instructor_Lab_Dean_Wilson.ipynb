{
 "cells": [
  {
   "cell_type": "markdown",
   "id": "baae87a4-c6c7-4b1d-a3ab-859921419a20",
   "metadata": {},
   "source": [
    "## Week 3 Instructor Led Lab\n",
    "* By: Dean Wilson\n",
    "* Course: BGEN 632: Graduate Introduction to Python\n",
    "* Date: 20230316\n",
    "### This Code will convert temperatures for values provided in Celsius, Fahrenheit and Kelvin.\n",
    "---\n",
    "\n",
    "## Welcome to my temperature converter! &#x1F321;"
   ]
  },
  {
   "cell_type": "markdown",
   "id": "56d54900-0761-4e75-ae56-4caf7a2fa271",
   "metadata": {},
   "source": [
    "### Create Variables "
   ]
  },
  {
   "cell_type": "code",
   "execution_count": 24,
   "id": "576c1f96-e760-4bcf-9c6a-ba015c38dc19",
   "metadata": {},
   "outputs": [],
   "source": [
    "# Create Fahrenheit and Celsius\n",
    "farhenheit = 0.0\n",
    "celsius = 0.0\n",
    "kelvin = 0.0"
   ]
  },
  {
   "cell_type": "code",
   "execution_count": 25,
   "id": "1aad55eb-415f-47be-a01b-409d23124c28",
   "metadata": {},
   "outputs": [
    {
     "name": "stdin",
     "output_type": "stream",
     "text": [
      "Please provide a value, in Celsius, to convert:\n",
      " -15\n"
     ]
    }
   ],
   "source": [
    "# Request User for value in Celsius\n",
    "text = float(input(\"Please provide a value, in Celsius, to convert:\\n\"))   "
   ]
  },
  {
   "cell_type": "code",
   "execution_count": 26,
   "id": "d9ee0737-92a9-4bd7-9726-98f3973aecd6",
   "metadata": {},
   "outputs": [],
   "source": [
    "celsius = text # whatever number the user places will fill in for celsius value"
   ]
  },
  {
   "cell_type": "markdown",
   "id": "c797e8a8-fb60-4194-b6d2-940eb586bd87",
   "metadata": {},
   "source": [
    "### Convert Celsius to Fahrenheit"
   ]
  },
  {
   "cell_type": "code",
   "execution_count": 27,
   "id": "c7c8fcb6-9526-4a31-91f4-b758ad4c6a98",
   "metadata": {},
   "outputs": [],
   "source": [
    " fahrenheit = (9 / 5) * celsius + 32 # C to F conversion formula"
   ]
  },
  {
   "cell_type": "markdown",
   "id": "449d88b1-0b64-4cad-9e57-441839828e95",
   "metadata": {},
   "source": [
    "### Convert Celsius to Kelvin"
   ]
  },
  {
   "cell_type": "code",
   "execution_count": 28,
   "id": "235e7537-9d5c-4fcb-b8bb-51caee979d87",
   "metadata": {},
   "outputs": [],
   "source": [
    "kelvin = celsius + 273.15 # C to K conversion formula"
   ]
  },
  {
   "cell_type": "markdown",
   "id": "db06013d-9238-48d1-8c6f-8805ce20486a",
   "metadata": {},
   "source": [
    "### Display Conversion Results"
   ]
  },
  {
   "cell_type": "code",
   "execution_count": 29,
   "id": "8c3aaaec-2545-43bd-9834-0272b92451d7",
   "metadata": {},
   "outputs": [
    {
     "name": "stdout",
     "output_type": "stream",
     "text": [
      "-15.00 degrees celsius is 5.00 degrees fahrenheit which is 258.15 degrees kelvin\n"
     ]
    }
   ],
   "source": [
    "print(f\"{celsius:.2f} degrees celsius is {fahrenheit:.2f} degrees fahrenheit which is {kelvin:.2f} degrees kelvin\")    #added:.2f to limit the decimal place to two places."
   ]
  },
  {
   "cell_type": "markdown",
   "id": "30aaae09-ebe5-484e-b209-7aef94142a67",
   "metadata": {},
   "source": [
    "### Create Additional Variables "
   ]
  },
  {
   "cell_type": "code",
   "execution_count": 30,
   "id": "a6c866e0-8bbf-4ce6-bef7-650b8ce4a9f7",
   "metadata": {},
   "outputs": [],
   "source": [
    "farhenheit_two = 0.0\n",
    "celsius_two = 0.0\n",
    "kelvin_two = 0.0"
   ]
  },
  {
   "cell_type": "code",
   "execution_count": 31,
   "id": "923ef437-b7b1-4810-a14e-5bef6d564c60",
   "metadata": {},
   "outputs": [
    {
     "name": "stdin",
     "output_type": "stream",
     "text": [
      "Please provide a value, in Celsius, to convert:\n",
      " 0\n"
     ]
    }
   ],
   "source": [
    "# Request User for value in Celsius\n",
    "text_two = float(input(\"Please provide a value, in Celsius, to convert:\\n\"))   "
   ]
  },
  {
   "cell_type": "code",
   "execution_count": 32,
   "id": "4ed75b0d-912b-44bb-85bd-8d6e39bb161d",
   "metadata": {},
   "outputs": [],
   "source": [
    "celsius_two = text_two # second entry of text will fill in second celsius value"
   ]
  },
  {
   "cell_type": "markdown",
   "id": "1fc3f39e-781f-4942-8a09-f9cac6e964a2",
   "metadata": {},
   "source": [
    "### Convert Ceslius to Fahrenheit"
   ]
  },
  {
   "cell_type": "code",
   "execution_count": 33,
   "id": "9b3598a6-88fd-433e-a699-06654a663876",
   "metadata": {},
   "outputs": [],
   "source": [
    "fahrenheit_two = (9 / 5) * celsius_two + 32"
   ]
  },
  {
   "cell_type": "markdown",
   "id": "bd086333-5a02-4d37-bad5-23056c891c48",
   "metadata": {},
   "source": [
    "### Convert Celsius to Kelvin"
   ]
  },
  {
   "cell_type": "code",
   "execution_count": 34,
   "id": "5899cba8-a1fa-4aab-9548-b995ed4b3837",
   "metadata": {},
   "outputs": [],
   "source": [
    "kelvin_two = celsius_two + 273.15"
   ]
  },
  {
   "cell_type": "markdown",
   "id": "e1a74f0c-c3a5-41f9-8d89-7a93d3de1fbe",
   "metadata": {},
   "source": [
    "### Display Conversion Results"
   ]
  },
  {
   "cell_type": "code",
   "execution_count": 41,
   "id": "d1fade9c-4b25-4b7f-a80e-60758aedc04c",
   "metadata": {},
   "outputs": [
    {
     "name": "stdout",
     "output_type": "stream",
     "text": [
      "Second Set of Values: 0.00 degrees celsius is 32.00 degrees fahrenheit which is 273.15 degrees kelvin\n"
     ]
    }
   ],
   "source": [
    "print(f\"Second Set of Values: {celsius_two:.2f} degrees celsius is {fahrenheit_two:.2f} degrees fahrenheit which is {kelvin_two:.2f} degrees kelvin\")    # give conversion results from c to f and k"
   ]
  },
  {
   "cell_type": "markdown",
   "id": "8954a7bb-1a3d-4eb0-a868-a106bb59acbd",
   "metadata": {},
   "source": [
    "### Compare Temperatures"
   ]
  },
  {
   "cell_type": "code",
   "execution_count": 36,
   "id": "e11b1591-cd91-4228-b9ec-0f24f481c511",
   "metadata": {},
   "outputs": [
    {
     "name": "stdout",
     "output_type": "stream",
     "text": [
      "The original celsius value of -15.00 is smaller than the new value of 0.00.\n"
     ]
    }
   ],
   "source": [
    "# Celsius\n",
    "if celsius > celsius_two:# Celsius greater than Celsius_two\n",
    "    print(f\"The original celsius value of {celsius:.2f} is larger than the new value of {celsius_two:.2f}.\")\n",
    "elif celsius < celsius_two: # Celsius less than Celsius_two\n",
    "    print(f\"The original celsius value of {celsius:.2f} is smaller than the new value of {celsius_two:.2f}.\")\n",
    "elif celsius == celsius_two: # Celsius = to the vlaue of Celsius_2\n",
    "    print(f\"The original celsius value of {celsius:.2f} equals the new value of {celsius_two:.2f}.\")"
   ]
  },
  {
   "cell_type": "code",
   "execution_count": 37,
   "id": "925f4898-0832-429a-9e36-ef8b87825c15",
   "metadata": {},
   "outputs": [
    {
     "name": "stdout",
     "output_type": "stream",
     "text": [
      "The original fahrenheit value of 5.00 is smaller than the new value of 32.00.\n"
     ]
    }
   ],
   "source": [
    "# Fahrenheit\n",
    "if fahrenheit >= fahrenheit_two: # Fahrenheit greater than or equal to Fahrenheit_two\n",
    "    print(f\"The original fahrenheit value of {fahrenheit:.2f} is larger than or equal to the new value of {fahrenheit_two:.2f}.\")\n",
    "elif fahrenheit < fahrenheit_two: # Fahrenheit is less than Fahrenheit_two\n",
    "    print(f\"The original fahrenheit value of {fahrenheit:.2f} is smaller than the new value of {fahrenheit_two:.2f}.\")\n",
    "elif fahrenheit == fahrenheit_two: # Fahrenheit is equal to Fahrenheit_two\n",
    "    print(f\"The original fahrenheit value of {fahrenheit:.2f} is equal to {fahrenheit_two:.2f}.\")"
   ]
  },
  {
   "cell_type": "code",
   "execution_count": 38,
   "id": "e67fea56-f365-4714-b3eb-1b9650fbd7b8",
   "metadata": {},
   "outputs": [
    {
     "name": "stdout",
     "output_type": "stream",
     "text": [
      "The original kelvin value of 258.15 is smaller than the new value of 273.15.\n"
     ]
    }
   ],
   "source": [
    "# Kelvin\n",
    "if kelvin > kelvin_two: # Kelvin is greater than Kelvin_two\n",
    "    print(f\"The original kelvin value of {kelvin:.2f} is larger than the new value of {kelvin_two:.2f}.\")\n",
    "elif kelvin < kelvin_two: # Kelvin is less than Kelvin_two\n",
    "    print(f\"The original kelvin value of {kelvin:.2f} is smaller than the new value of {kelvin_two:.2f}.\")\n",
    "elif kelvin != kelvin_two: # Kelvin does not equal to Kelvin_two\n",
    "    print(f\"The original kelvin value of {kelvin:.2f} is not equal to the new value of {kelvin_two:.2f}.\")"
   ]
  },
  {
   "cell_type": "markdown",
   "id": "3f84c3fe-a0ad-4fc2-b388-c81b5c8ed56b",
   "metadata": {},
   "source": [
    "### Logical Operators"
   ]
  },
  {
   "cell_type": "code",
   "execution_count": 39,
   "id": "73f21515-366e-47a9-a009-93014982d541",
   "metadata": {},
   "outputs": [
    {
     "name": "stdout",
     "output_type": "stream",
     "text": [
      "Comparing -15.0 > 0.0 and 5.0 >= 32.0\n",
      "Python lies.\n"
     ]
    }
   ],
   "source": [
    "# Comparing Celsius and Fahrenheit\n",
    "print(f\"Comparing {celsius} > {celsius_two} and {fahrenheit} >= {fahrenheit_two}\")\n",
    "if celsius > celsius_two and fahrenheit >= fahrenheit_two:\n",
    "    print(f\"Python speaks the truth!\")\n",
    "else:\n",
    "    print(f\"Python lies.\")"
   ]
  },
  {
   "cell_type": "code",
   "execution_count": 40,
   "id": "d99996d4-8706-43f3-8f0a-e8df6d9931b8",
   "metadata": {},
   "outputs": [
    {
     "name": "stdout",
     "output_type": "stream",
     "text": [
      "Comparing -15.0 < 0.0 or 258.15 > 273.15\n",
      "Python speaks the truth!\n"
     ]
    }
   ],
   "source": [
    "# Comparing Celsius and Kelvin\n",
    "print(f\"Comparing {celsius} < {celsius_two} or {kelvin} > {kelvin_two}\")\n",
    "if celsius < celsius_two or kelvin > kelvin_two:\n",
    "    print(f\"Python speaks the truth!\")\n",
    "else:\n",
    "    print(f\"Python lies.\")"
   ]
  },
  {
   "cell_type": "markdown",
   "id": "526df44f-96eb-4a5c-b4cc-318ee384ada3",
   "metadata": {},
   "source": [
    "## References\n",
    "* ChatGPT. (2025, March 9). Conversation with ChatGPT about Python Coding. OpenAI. https://chatgpt.com/share/67cebaa7-6734-8001-818c-ad6330640036\n",
    "\n",
    "* ChatGPT. (2025, March 16). Conversation with ChatGPT about Celsius Conversion. OpenAI. https://chatgpt.com/share/67d79fa0-e71c-8001-8258-3c2ccb836ac5"
   ]
  }
 ],
 "metadata": {
  "kernelspec": {
   "display_name": "Python 3 (ipykernel)",
   "language": "python",
   "name": "python3"
  },
  "language_info": {
   "codemirror_mode": {
    "name": "ipython",
    "version": 3
   },
   "file_extension": ".py",
   "mimetype": "text/x-python",
   "name": "python",
   "nbconvert_exporter": "python",
   "pygments_lexer": "ipython3",
   "version": "3.13.2"
  }
 },
 "nbformat": 4,
 "nbformat_minor": 5
}
